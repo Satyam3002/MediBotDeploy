{
 "cells": [
  {
   "cell_type": "code",
   "execution_count": 1,
   "id": "e1b3df9c-0c29-4c4f-a90f-c795fa5ab874",
   "metadata": {},
   "outputs": [
    {
     "name": "stdout",
     "output_type": "stream",
     "text": [
      "Requirement already satisfied: datasets in c:\\users\\komal\\anaconda3\\lib\\site-packages (3.6.0)\n",
      "Requirement already satisfied: filelock in c:\\users\\komal\\anaconda3\\lib\\site-packages (from datasets) (3.13.1)\n",
      "Requirement already satisfied: numpy>=1.17 in c:\\users\\komal\\anaconda3\\lib\\site-packages (from datasets) (1.26.4)\n",
      "Requirement already satisfied: pyarrow>=15.0.0 in c:\\users\\komal\\anaconda3\\lib\\site-packages (from datasets) (16.1.0)\n",
      "Requirement already satisfied: dill<0.3.9,>=0.3.0 in c:\\users\\komal\\anaconda3\\lib\\site-packages (from datasets) (0.3.8)\n",
      "Requirement already satisfied: pandas in c:\\users\\komal\\anaconda3\\lib\\site-packages (from datasets) (2.2.2)\n",
      "Requirement already satisfied: requests>=2.32.2 in c:\\users\\komal\\anaconda3\\lib\\site-packages (from datasets) (2.32.3)\n",
      "Requirement already satisfied: tqdm>=4.66.3 in c:\\users\\komal\\anaconda3\\lib\\site-packages (from datasets) (4.66.5)\n",
      "Requirement already satisfied: xxhash in c:\\users\\komal\\anaconda3\\lib\\site-packages (from datasets) (3.5.0)\n",
      "Requirement already satisfied: multiprocess<0.70.17 in c:\\users\\komal\\anaconda3\\lib\\site-packages (from datasets) (0.70.16)\n",
      "Requirement already satisfied: fsspec<=2025.3.0,>=2023.1.0 in c:\\users\\komal\\anaconda3\\lib\\site-packages (from fsspec[http]<=2025.3.0,>=2023.1.0->datasets) (2024.6.1)\n",
      "Requirement already satisfied: huggingface-hub>=0.24.0 in c:\\users\\komal\\anaconda3\\lib\\site-packages (from datasets) (0.30.1)\n",
      "Requirement already satisfied: packaging in c:\\users\\komal\\anaconda3\\lib\\site-packages (from datasets) (24.1)\n",
      "Requirement already satisfied: pyyaml>=5.1 in c:\\users\\komal\\anaconda3\\lib\\site-packages (from datasets) (6.0.1)\n",
      "Requirement already satisfied: aiohttp!=4.0.0a0,!=4.0.0a1 in c:\\users\\komal\\anaconda3\\lib\\site-packages (from fsspec[http]<=2025.3.0,>=2023.1.0->datasets) (3.10.5)\n",
      "Requirement already satisfied: typing-extensions>=3.7.4.3 in c:\\users\\komal\\anaconda3\\lib\\site-packages (from huggingface-hub>=0.24.0->datasets) (4.13.2)\n",
      "Requirement already satisfied: charset-normalizer<4,>=2 in c:\\users\\komal\\anaconda3\\lib\\site-packages (from requests>=2.32.2->datasets) (3.3.2)\n",
      "Requirement already satisfied: idna<4,>=2.5 in c:\\users\\komal\\anaconda3\\lib\\site-packages (from requests>=2.32.2->datasets) (3.7)\n",
      "Requirement already satisfied: urllib3<3,>=1.21.1 in c:\\users\\komal\\anaconda3\\lib\\site-packages (from requests>=2.32.2->datasets) (2.2.3)\n",
      "Requirement already satisfied: certifi>=2017.4.17 in c:\\users\\komal\\anaconda3\\lib\\site-packages (from requests>=2.32.2->datasets) (2024.8.30)\n",
      "Requirement already satisfied: colorama in c:\\users\\komal\\anaconda3\\lib\\site-packages (from tqdm>=4.66.3->datasets) (0.4.6)\n",
      "Requirement already satisfied: python-dateutil>=2.8.2 in c:\\users\\komal\\anaconda3\\lib\\site-packages (from pandas->datasets) (2.9.0.post0)\n",
      "Requirement already satisfied: pytz>=2020.1 in c:\\users\\komal\\anaconda3\\lib\\site-packages (from pandas->datasets) (2024.1)\n",
      "Requirement already satisfied: tzdata>=2022.7 in c:\\users\\komal\\anaconda3\\lib\\site-packages (from pandas->datasets) (2023.3)\n",
      "Requirement already satisfied: aiohappyeyeballs>=2.3.0 in c:\\users\\komal\\anaconda3\\lib\\site-packages (from aiohttp!=4.0.0a0,!=4.0.0a1->fsspec[http]<=2025.3.0,>=2023.1.0->datasets) (2.4.0)\n",
      "Requirement already satisfied: aiosignal>=1.1.2 in c:\\users\\komal\\anaconda3\\lib\\site-packages (from aiohttp!=4.0.0a0,!=4.0.0a1->fsspec[http]<=2025.3.0,>=2023.1.0->datasets) (1.2.0)\n",
      "Requirement already satisfied: attrs>=17.3.0 in c:\\users\\komal\\anaconda3\\lib\\site-packages (from aiohttp!=4.0.0a0,!=4.0.0a1->fsspec[http]<=2025.3.0,>=2023.1.0->datasets) (23.1.0)\n",
      "Requirement already satisfied: frozenlist>=1.1.1 in c:\\users\\komal\\anaconda3\\lib\\site-packages (from aiohttp!=4.0.0a0,!=4.0.0a1->fsspec[http]<=2025.3.0,>=2023.1.0->datasets) (1.4.0)\n",
      "Requirement already satisfied: multidict<7.0,>=4.5 in c:\\users\\komal\\anaconda3\\lib\\site-packages (from aiohttp!=4.0.0a0,!=4.0.0a1->fsspec[http]<=2025.3.0,>=2023.1.0->datasets) (6.0.4)\n",
      "Requirement already satisfied: yarl<2.0,>=1.0 in c:\\users\\komal\\anaconda3\\lib\\site-packages (from aiohttp!=4.0.0a0,!=4.0.0a1->fsspec[http]<=2025.3.0,>=2023.1.0->datasets) (1.11.0)\n",
      "Requirement already satisfied: six>=1.5 in c:\\users\\komal\\anaconda3\\lib\\site-packages (from python-dateutil>=2.8.2->pandas->datasets) (1.16.0)\n"
     ]
    }
   ],
   "source": [
    "!pip install datasets\n"
   ]
  },
  {
   "cell_type": "code",
   "execution_count": 2,
   "id": "d511d6ca-8bcb-42a8-908f-c02427c7b7d6",
   "metadata": {},
   "outputs": [
    {
     "name": "stderr",
     "output_type": "stream",
     "text": [
      "Repo card metadata block was not found. Setting CardData to empty.\n"
     ]
    },
    {
     "name": "stdout",
     "output_type": "stream",
     "text": [
      "\n",
      "[dataset1] {'text': \"I have been having migraines and headaches. I can't sleep. My whole body is shaking and shivering. I feel dizzy sometimes.\", 'label': 308}\n",
      "\n",
      "[dataset2] {'input': '', 'reference': '', 'output': 'The following are the symptoms of hypertensive  disease: pain  chest, shortness  of breath, dizziness, asthenia, fall, syncope, vertigo, sweating  increased, palpitation, nausea, angina  pectoris, pressure  chest', 'instruction': 'What are the symptoms of hypertensive  disease?'}\n",
      "\n",
      "[dataset3] {'Code': 1, 'Name': 'Panic disorder', 'Symptoms': 'Palpitations, Sweating, Trembling, Shortness of breath, Fear of losing control, Dizziness', 'Treatments': 'Antidepressant medications, Cognitive Behavioral Therapy, Relaxation Techniques'}\n",
      "\n",
      "[dataset4] {'output_text': 'cervical spondylosis', 'input_text': \"I've been having a lot of pain in my neck and back. I've also been having trouble with my balance and coordination. I've been coughing a lot and my limbs feel weak.\"}\n",
      "\n",
      "[dataset5] {'query': \"System:'You are a highly qualified doctor.and chat polietly with patients.'\\nPatient:I may have itching,vomiting,fatigue,weight_loss,high_fever,yellowish_skin,dark_urine,abdominal_pain\", 'response': 'You may have Jaundice'}\n",
      "\n",
      "[dataset6] {'instruction': 'What disease is associated with these symptoms: itching, skin_rash, nodal_skin_eruptions, dischromic _patches?', 'input': '', 'output': 'fungal infection'}\n",
      "\n",
      "[dataset7] {'text': \"\\n\\n\\n\\n\\r\\n\\t    Polymorphous light eruption on the chest\\r\\n\\t    Open pop-up dialog box\\n\\n\\n\\n\\n\\n\\n\\n\\n\\nClose\\n\\n\\n\\nPolymorphous light eruption on the chest\\n\\n\\nPolymorphous light eruption on the chest\\nPolymorphous light eruption is a rash that affects parts of the body that are exposed to more sunlight as daylight hours get longer, such as the front of the neck and chest. Polymorphous means that the rash can have many forms, such as tiny bumps, raised areas or blisters.\\n\\n\\n\\n\\n \\n\\n\\r\\n\\t    Polymorphous light eruption on the chest\\r\\n\\t    Open pop-up dialog box\\n\\n  \\r\\n\\t    Polymorphous light eruption on the chest\\r\\n\\t    Open pop-up dialog box\\n Open pop-up dialog box \\n\\n\\n\\n\\n\\nClose\\n\\n\\n\\nPolymorphous light eruption on the chest\\n\\n\\nPolymorphous light eruption on the chest\\nPolymorphous light eruption is a rash that affects parts of the body that are exposed to more sunlight as daylight hours get longer, such as the front of the neck and chest. Polymorphous means that the rash can have many forms, such as tiny bumps, raised areas or blisters.\\n\\n\\n\\n \\n\\n\\n\\n\\nClose\\n\\n\\n\\nPolymorphous light eruption on the chest\\n\\n\\nPolymorphous light eruption on the chest\\nPolymorphous light eruption is a rash that affects parts of the body that are exposed to more sunlight as daylight hours get longer, such as the front of the neck and chest. Polymorphous means that the rash can have many forms, such as tiny bumps, raised areas or blisters.\\n\\n\\n \\n\\n\\n\\nClose\\n\\n\\n\\nPolymorphous light eruption on the chest\\n\\n\\nPolymorphous light eruption on the chest\\nPolymorphous light eruption is a rash that affects parts of the body that are exposed to more sunlight as daylight hours get longer, such as the front of the neck and chest. Polymorphous means that the rash can have many forms, such as tiny bumps, raised areas or blisters.\\n\\n \\n\\nClose\\n\\n \\nClose\\n Close Polymorphous light eruption on the chest  \\nPolymorphous light eruption on the chest\\nPolymorphous light eruption is a rash that affects parts of the body that are exposed to more sunlight as daylight hours get longer, such as the front of the neck and chest. Polymorphous means that the rash can have many forms, such as tiny bumps, raised areas or blisters.\\n Polymorphous light eruption on the chest Polymorphous light eruption is a rash that affects parts of the body that are exposed to more sunlight as daylight hours get longer, such as the front of the neck and chest. Polymorphous means that the rash can have many forms, such as tiny bumps, raised areas or blisters. Polymorphous light eruption is a rash that affects parts of the body that are exposed to more sunlight as daylight hours get longer, such as the front of the neck and chest. Polymorphous means that the rash can have many forms, such as tiny bumps, raised areas or blisters. How skin with sun allergy looks varies widely depending on the color of your skin and what's causing the symptoms. Signs and symptoms may include: \\nItchiness (pruritus)\\nStinging\\nTiny bumps that may merge into raised patches\\nA flushing of the exposed area\\nBlisters or hives\\n Symptoms usually occur only on skin that has been exposed to the sun or other source of UV light. Symptoms show up within minutes to hours after sun exposure.\", 'label': 'sun-allergy'}\n"
     ]
    }
   ],
   "source": [
    "import os\n",
    "os.environ[\"HF_HUB_DISABLE_SYMLINKS_WARNING\"] = \"1\"\n",
    "\n",
    "from datasets import load_dataset\n",
    "\n",
    "\n",
    "# Load datasets\n",
    "dataset1 = load_dataset(\"dux-tecblic/symptom-disease-dataset\")\n",
    "dataset2 = load_dataset(\"prognosis/symptoms_disease_v1\")\n",
    "dataset3 = load_dataset(\"QuyenAnhDE/Diseases_Symptoms\")\n",
    "dataset4 = load_dataset(\"gretelai/symptom_to_diagnosis\")\n",
    "dataset5 = load_dataset(\"fhai50032/Symptoms_to_disease_7k\")\n",
    "dataset6 = load_dataset(\"Dhananjay-25/symptoms-disease_dataset_for_LLM\")\n",
    "dataset7 = load_dataset(\"celikmus/mayo_clinic_symptoms_and_diseases_v1\")\n",
    "\n",
    "# Display one record from each\n",
    "print(\"\\n[dataset1]\", dataset1['train'][0])\n",
    "print(\"\\n[dataset2]\", dataset2['train'][0])\n",
    "print(\"\\n[dataset3]\", dataset3['train'][0])\n",
    "print(\"\\n[dataset4]\", dataset4['train'][0])\n",
    "print(\"\\n[dataset5]\", dataset5['train'][0])\n",
    "print(\"\\n[dataset6]\", dataset6['train'][0])\n",
    "print(\"\\n[dataset7]\", dataset7['train'][0])\n",
    "\n",
    "\n"
   ]
  },
  {
   "cell_type": "code",
   "execution_count": 3,
   "id": "2032119d-7f85-45c6-8098-7ba89474d25d",
   "metadata": {},
   "outputs": [],
   "source": [
    "# Cleaning functions for all 7 datasets\n",
    "\n",
    "def clean_dataset1(example):\n",
    "    return {\n",
    "        \"symptoms\": example[\"text\"],\n",
    "        \"diagnosis\": str(example[\"label\"])\n",
    "    }\n",
    "\n",
    "def clean_dataset2(example):\n",
    "    return {\n",
    "        \"symptoms\": example[\"instruction\"],\n",
    "        \"diagnosis\": example[\"output\"]\n",
    "    }\n",
    "\n",
    "def clean_dataset3(example):\n",
    "    return {\n",
    "        \"symptoms\": example[\"Symptoms\"],\n",
    "        \"diagnosis\": example[\"Name\"]\n",
    "    }\n",
    "\n",
    "def clean_dataset4(example):\n",
    "    return {\n",
    "        \"symptoms\": example[\"input_text\"],\n",
    "        \"diagnosis\": example[\"output_text\"]\n",
    "    }\n",
    "\n",
    "def clean_dataset5(example):\n",
    "    return {\n",
    "        \"symptoms\": example[\"query\"],\n",
    "        \"diagnosis\": example[\"response\"]\n",
    "    }\n",
    "\n",
    "def clean_dataset6(example):\n",
    "    return {\n",
    "        \"symptoms\": example[\"instruction\"],\n",
    "        \"diagnosis\": example[\"output\"]\n",
    "    }\n",
    "\n",
    "def clean_dataset7(example):\n",
    "    return {\n",
    "        \"symptoms\": example[\"text\"],\n",
    "        \"diagnosis\": example[\"label\"]\n",
    "    }\n",
    "    \n",
    "cleaned1 = dataset1[\"train\"].map(clean_dataset1, remove_columns=dataset1[\"train\"].column_names)\n",
    "cleaned2 = dataset2[\"train\"].map(clean_dataset2, remove_columns=dataset2[\"train\"].column_names)\n",
    "cleaned3 = dataset3[\"train\"].map(clean_dataset3, remove_columns=dataset3[\"train\"].column_names)\n",
    "cleaned4 = dataset4[\"train\"].map(clean_dataset4, remove_columns=dataset4[\"train\"].column_names)\n",
    "cleaned5 = dataset5[\"train\"].map(clean_dataset5, remove_columns=dataset5[\"train\"].column_names)\n",
    "cleaned6 = dataset6[\"train\"].map(clean_dataset6, remove_columns=dataset6[\"train\"].column_names)\n",
    "cleaned7 = dataset7[\"train\"].map(clean_dataset7, remove_columns=dataset7[\"train\"].column_names)\n",
    "\n"
   ]
  },
  {
   "cell_type": "code",
   "execution_count": 4,
   "id": "3fb5b0e0-d100-4bea-a05d-75fe4613a75c",
   "metadata": {},
   "outputs": [
    {
     "name": "stdout",
     "output_type": "stream",
     "text": [
      "{'symptoms': \"I have been having migraines and headaches. I can't sleep. My whole body is shaking and shivering. I feel dizzy sometimes.\", 'diagnosis': '308'}\n",
      "{'symptoms': 'What are the symptoms of hypertensive  disease?', 'diagnosis': 'The following are the symptoms of hypertensive  disease: pain  chest, shortness  of breath, dizziness, asthenia, fall, syncope, vertigo, sweating  increased, palpitation, nausea, angina  pectoris, pressure  chest'}\n"
     ]
    }
   ],
   "source": [
    "print(cleaned1[0]) \n",
    "print(cleaned2[0])\n"
   ]
  },
  {
   "cell_type": "code",
   "execution_count": 5,
   "id": "9d9dd8fc-e17c-4953-a49a-9fcfe08887bf",
   "metadata": {},
   "outputs": [],
   "source": [
    "from datasets import concatenate_datasets\n",
    "\n",
    "all_data = concatenate_datasets([\n",
    "    cleaned1, cleaned2, cleaned3, cleaned4, cleaned5, cleaned6, cleaned7\n",
    "])\n"
   ]
  },
  {
   "cell_type": "code",
   "execution_count": 6,
   "id": "6efa9055-abad-4d6b-a031-c567c34dec33",
   "metadata": {},
   "outputs": [],
   "source": [
    "# Only once after loading\n",
    "all_data_list = all_data.to_list()\n"
   ]
  },
  {
   "cell_type": "code",
   "execution_count": 80,
   "id": "d2cb8eb5-6c67-4fad-8ab1-82aa6f9a1790",
   "metadata": {},
   "outputs": [
    {
     "name": "stdout",
     "output_type": "stream",
     "text": [
      "Your symptoms could be related to a viral upper respiratory infection. Monitor your condition and seek medical advice if it worsens.\n"
     ]
    }
   ],
   "source": [
    "# Your diagnosis explanation mapping\n",
    "diagnosis_map = {\n",
    "     35: \"These symptoms may indicate a bacterial infection or flu-like illness. Rest and medical attention are recommended.\",\n",
    "    149: \"Your symptoms could be related to a viral upper respiratory infection. Monitor your condition and seek medical advice if it worsens.\",\n",
    "    768: \"You may be experiencing symptoms of angina or a heart-related issue. Please consult a cardiologist.\",\n",
    "    101: \"These symptoms are commonly related to fever. Stay hydrated and monitor your temperature.\",\n",
    "    212: \"This might be a sign of seasonal allergies or a respiratory condition.\",\n",
    "    305: \"You may be showing signs of a gastrointestinal issue. Please consult a physician.\",\n",
    "    872: \"These symptoms may suggest a cardiovascular condition. Please seek immediate medical attention.\",\n",
    "    404: \"These symptoms are associated with a viral infection. Consider rest and over-the-counter medication.\",\n",
    "    509: \"Possible early signs of diabetes. It's recommended to get your blood sugar levels checked.\",\n",
    "    612: \"May be due to stress or anxiety. Practicing relaxation techniques or talking to a counselor may help.\",\n",
    "    123: \"Could indicate dehydration or low blood pressure. Increase fluid intake and monitor symptoms.\",\n",
    "    321: \"Symptoms suggest a respiratory tract infection. A visit to a general practitioner is advised.\",\n",
    "    111: \"This may be a mild cold or flu. Rest and hydration are typically helpful.\",\n",
    "    777: \"Unusual symptoms. Please seek medical attention for a detailed diagnosis.\",\n",
    "    513: \"You may be showing signs of asthma or another respiratory condition. Please consult a doctor.\",\n",
    "    308: \"These symptoms may point to a sinus infection or allergic rhinitis. Try antihistamines and consult a doctor if it persists.\",\n",
    "    35: \"These symptoms may indicate a bacterial infection or flu-like illness. Rest and medical attention are recommended.\",\n",
    "    149: \"Your symptoms could be related to a viral upper respiratory infection. Monitor your condition and seek medical advice if it worsens.\",\n",
    "    200: \"Symptoms suggest food poisoning. Stay hydrated and avoid solid food until symptoms improve.\",\n",
    "    266: \"Signs of urinary tract infection detected. Increased fluid intake and medical evaluation are suggested.\",\n",
    "    314: \"You may be experiencing a migraine. Rest in a quiet, dark room and consider over-the-counter medication.\",\n",
    "    401: \"Possible case of anemia. A blood test and iron supplements might be necessary.\",\n",
    "    688: \"This could be due to hormonal imbalance. Consult an endocrinologist.\",\n",
    "    809: \"Possible allergic reaction. Avoid allergens and seek antihistamines or medical advice if symptoms worsen.\",\n",
    "    902: \"These symptoms match bronchitis. Rest and a medical checkup are advisable.\",\n",
    "    999: \"Severe symptoms detected. Seek emergency medical attention immediately.\"\n",
    "}\n",
    "\n",
    "\n",
    "def find_diagnosis_flexible(user_input, dataset, diagnosis_map):\n",
    "    user_words = user_input.lower().split()\n",
    "\n",
    "    for entry in dataset:\n",
    "        symptoms = entry[\"symptoms\"].lower()\n",
    "        for word in user_words:\n",
    "            if word in symptoms:\n",
    "                diag_id = int(entry[\"diagnosis\"])\n",
    "                return diagnosis_map.get(diag_id, f\"Diagnosis ID: {diag_id} (No explanation available)\")\n",
    "    \n",
    "    return \"Sorry, no similar symptoms found.\"\n",
    "\n",
    "# ✅ Example usage\n",
    "#user_input = \"runny nose and sneezing\"\n",
    "user_input = \"persistent cough\"\n",
    "diagnosis = find_diagnosis_flexible(user_input, all_data, diagnosis_map)\n",
    "print(diagnosis)\n"
   ]
  },
  {
   "cell_type": "code",
   "execution_count": null,
   "id": "e5a0f0c1-6fd5-46f3-961f-7e44282f7d50",
   "metadata": {},
   "outputs": [],
   "source": []
  },
  {
   "cell_type": "code",
   "execution_count": null,
   "id": "b6c1ef1c-96f1-4173-b328-1915ab0881b9",
   "metadata": {},
   "outputs": [],
   "source": []
  }
 ],
 "metadata": {
  "kernelspec": {
   "display_name": "Python 3 (ipykernel)",
   "language": "python",
   "name": "python3"
  },
  "language_info": {
   "codemirror_mode": {
    "name": "ipython",
    "version": 3
   },
   "file_extension": ".py",
   "mimetype": "text/x-python",
   "name": "python",
   "nbconvert_exporter": "python",
   "pygments_lexer": "ipython3",
   "version": "3.12.7"
  }
 },
 "nbformat": 4,
 "nbformat_minor": 5
}
